{
 "cells": [
  {
   "cell_type": "code",
   "execution_count": 1,
   "metadata": {
    "ExecuteTime": {
     "end_time": "2020-01-09T22:30:15.112365Z",
     "start_time": "2020-01-09T22:30:14.049808Z"
    }
   },
   "outputs": [],
   "source": [
    "import sympy as sp\n",
    "import numpy as np\n",
    "%matplotlib inline\n",
    "import matplotlib.pyplot as plt\n",
    "from dataclasses import dataclass, field\n",
    "from typing import List\n",
    "from IPython.display import HTML\n",
    "from matplotlib.animation import FuncAnimation"
   ]
  },
  {
   "cell_type": "code",
   "execution_count": 2,
   "metadata": {
    "ExecuteTime": {
     "end_time": "2020-01-09T22:30:15.121327Z",
     "start_time": "2020-01-09T22:30:15.114327Z"
    }
   },
   "outputs": [],
   "source": [
    "@dataclass\n",
    "class Simulation():\n",
    "    t: float = 0.0\n",
    "    step: float = 1.0\n",
    "\n",
    "    def take_step(self):\n",
    "        NotImplemented\n",
    "s = Simulation()\n",
    "s.take_step()"
   ]
  },
  {
   "cell_type": "code",
   "execution_count": 31,
   "metadata": {
    "ExecuteTime": {
     "end_time": "2020-01-10T00:07:53.434609Z",
     "start_time": "2020-01-10T00:07:53.305970Z"
    }
   },
   "outputs": [
    {
     "name": "stdout",
     "output_type": "stream",
     "text": [
      "Body(t=0.0, step=1.0, x=0.0, y=0.0, R=1.0, mass=1.0, v_x=0.0, v_y=0.0, F_x=0.0, F_y=0.0, c='b')\n"
     ]
    },
    {
     "data": {
      "text/plain": [
       "Body(t=1.0, step=1.0, x=0.0, y=0.0, R=1.0, mass=1.0, v_x=0.0, v_y=0.0, F_x=0.0, F_y=0.0, c='b')"
      ]
     },
     "execution_count": 31,
     "metadata": {},
     "output_type": "execute_result"
    }
   ],
   "source": [
    "@dataclass\n",
    "class Body(Simulation):\n",
    "    x: float = 0.0\n",
    "    y: float = 0.0\n",
    "    R: float = 1.0\n",
    "    mass: float = 1.0\n",
    "    v_x: float = 0.0\n",
    "    v_y: float = 0.0\n",
    "    F_x: float = 0.0\n",
    "    F_y: float = 0.0\n",
    "    c: str = 'b'\n",
    "\n",
    "    def take_step(self):\n",
    "        self.x = self.x + self.step * self.v_x + (\n",
    "            0.5 * self.F_x / self.mass) * np.power(self.step, 2)\n",
    "        self.y = self.y + self.step * self.v_y + (\n",
    "            0.5 * self.F_y / self.mass) * np.power(self.step, 2)\n",
    "        self.v_x = (self.F_x / self.mass) * self.step + self.v_x\n",
    "        self.v_y = (self.F_y / self.mass) * self.step + self.v_y\n",
    "        self.t += self.step\n",
    "        \n",
    "    #@property\n",
    "    def distance(self, other):\n",
    "        return np.sqrt(np.power(self.x - other.x, 2) + np.power(self.y - other.y, 2))\n",
    "    \n",
    "    def unit_xy(self, other):\n",
    "        x = other.x - self.x\n",
    "        y = other.y - self.y\n",
    "        mag = np.sqrt(np.power(x, 2) + np.power(y, 2))\n",
    "        return x / mag, y / mag\n",
    "\n",
    "b = Body()\n",
    "print(b)\n",
    "b.take_step()\n",
    "b"
   ]
  },
  {
   "cell_type": "code",
   "execution_count": 32,
   "metadata": {
    "ExecuteTime": {
     "end_time": "2020-01-10T00:08:05.424410Z",
     "start_time": "2020-01-10T00:08:05.094842Z"
    }
   },
   "outputs": [
    {
     "name": "stdout",
     "output_type": "stream",
     "text": [
      "System(t=0.0, step=0.5, bodies=[Body(t=0.0, step=0.5, x=0.0, y=0.0, R=1.0, mass=1.0, v_x=0.0, v_y=0.0, F_x=0.0, F_y=0.0, c='b'), Body(t=0.0, step=0.5, x=0.75, y=0.0, R=1.0, mass=1.0, v_x=0.0, v_y=0.0, F_x=0.0, F_y=0.0, c='b')], G=1.0)\n",
      "(1.0, 0.0)\n"
     ]
    },
    {
     "name": "stderr",
     "output_type": "stream",
     "text": [
      "c:\\users\\micha\\.virtualenvs\\main\\lib\\site-packages\\ipykernel_launcher.py:13: UserWarning: Matplotlib is currently using module://ipykernel.pylab.backend_inline, which is a non-GUI backend, so cannot show the figure.\n",
      "  del sys.path[0]\n"
     ]
    },
    {
     "data": {
      "image/png": "[encoded data removed]",
      "text/plain": [
       "<Figure size 432x288 with 1 Axes>"
      ]
     },
     "metadata": {
      "needs_background": "light"
     },
     "output_type": "display_data"
    },
    {
     "data": {
      "image/png": "[encoded data removed]",
      "text/plain": [
       "<Figure size 432x288 with 1 Axes>"
      ]
     },
     "metadata": {
      "needs_background": "light"
     },
     "output_type": "display_data"
    }
   ],
   "source": [
    "@dataclass\n",
    "class System(Simulation):\n",
    "    bodies: List[Body] = field(default_factory=list)\n",
    "    t: float = 0.0\n",
    "    G: float = 1.0\n",
    "\n",
    "    def plot(self, xlim=[None, None], ylim=[None, None]):\n",
    "        fig, ax = plt.subplots(1, 1)\n",
    "        ax.scatter([b.x for b in self.bodies], [b.y for b in self.bodies],\n",
    "                   linewidths=[b.R for b in self.bodies])\n",
    "        ax.set_xlim(xlim[0], xlim[1])\n",
    "        ax.set_ylim(ylim[0], ylim[1])\n",
    "        fig.show()\n",
    "\n",
    "    def take_step(self):\n",
    "        for b in self.bodies:\n",
    "            F_x = 0.0\n",
    "            F_y = 0.0\n",
    "            for other in self.bodies:\n",
    "                if other is not b:\n",
    "                    ux, uy = b.unit_xy(other)\n",
    "                    F = -self.G * (b.mass * other.mass) / np.power(b.distance(other), 2)\n",
    "                    F_x += F * ux\n",
    "                    F_y += F * uy\n",
    "            b.F_x, b.F_y = F_x, F_y\n",
    "        for b in self.bodies:\n",
    "            b.take_step()\n",
    "        self.t = self.t + self.step\n",
    "    \n",
    "    def set_steps(self, step=None):\n",
    "        if step:\n",
    "            self.step = step\n",
    "        for b in self.bodies:\n",
    "            b.step = self.step\n",
    "\n",
    "    def xy(self):\n",
    "        return [b.x for b in self.bodies], [b.y for b in self.bodies]\n",
    "\n",
    "s = System(bodies=[Body(), Body(x=0.75)])\n",
    "s.set_steps(0.5)\n",
    "print(s)\n",
    "print(s.bodies[0].unit_xy(s.bodies[1]))\n",
    "lims = {'xlim': [-1.0, 1.0], 'ylim': [-1.0, 1.0]}\n",
    "s.plot(**lims)\n",
    "s.take_step()\n",
    "s.plot(**lims)"
   ]
  },
  {
   "cell_type": "code",
   "execution_count": 44,
   "metadata": {
    "ExecuteTime": {
     "end_time": "2020-01-10T01:51:15.037986Z",
     "start_time": "2020-01-10T01:50:53.159070Z"
    },
    "scrolled": false
   },
   "outputs": [
    {
     "name": "stderr",
     "output_type": "stream",
     "text": [
      "MovieWriter imagemagick unavailable; trying to use <class 'matplotlib.animation.PillowWriter'> instead.\n"
     ]
    },
    {
     "name": "stdout",
     "output_type": "stream",
     "text": [
      "System(t=0.0, step=3600, bodies=[Body(t=0.0, step=3600, x=0.0, y=0.0, R=10, mass=1.989e+30, v_x=0, v_y=0.0, F_x=0.0, F_y=0.0, c='y'), Body(t=0.0, step=3600, x=0, y=-149600000000.0, R=3, mass=5.972e+24, v_x=29780.0, v_y=0, F_x=0.0, F_y=0.0, c='b'), Body(t=0.0, step=3600, x=0, y=-149215600000.0, R=1, mass=7.347e+22, v_x=30802.0, v_y=0, F_x=0.0, F_y=0.0, c='gray'), Body(t=0.0, step=3600, x=0, y=-108000000000.0, R=2, mass=4.867e+24, v_x=35020.0, v_y=0, F_x=0.0, F_y=0.0, c='orange'), Body(t=0.0, step=3600, x=0, y=-230000000000.0, R=1, mass=6.417e+23, v_x=24000.0, v_y=0, F_x=0.0, F_y=0.0, c='r'), Body(t=0.0, step=3600, x=0, y=-55000000000.0, R=1, mass=3.3e+23, v_x=48000.0, v_y=0, F_x=0.0, F_y=0.0, c='r')], G=-6.6743e-11)\n",
      "[0.0, 0, 0, 0, 0, 0]\n",
      "[149600000000.0, 0.0, 384400000.0, 41600000000.0, -80400000000.0, 94600000000.0]\n",
      "365 frames, 55 interval\n"
     ]
    },
    {
     "data": {
      "image/png": "[encoded data removed]",
      "text/plain": [
       "<Figure size 576x432 with 4 Axes>"
      ]
     },
     "metadata": {
      "needs_background": "light"
     },
     "output_type": "display_data"
    }
   ],
   "source": [
    "earth_speed = 29.78e3 # m/s\n",
    "earth_distance = 149.6e9 # m\n",
    "earth_mass = 5.972e24 # kg\n",
    "\n",
    "sun_mass = 1.989e30 # kg\n",
    "\n",
    "moon_mass = 7.347e22 # kg\n",
    "moon_distance_to_earth = 3.844e8\n",
    "moon_distance = -moon_distance_to_earth + earth_distance # m\n",
    "moon_speed = 1.022e3 + earth_speed # m/s\n",
    "\n",
    "venus_mass = 4.867e24 # kg\n",
    "venus_distance = 108e9 # m\n",
    "venus_speed = 35.02e3 # m/s\n",
    "\n",
    "mars_mass = 6.417e23 # kg\n",
    "mars_distance = 230e9 #m\n",
    "mars_speed = 24.0e3 #m/s\n",
    "\n",
    "mercury_mass = 3.30e23 # kg\n",
    "mercury_distance = 55e9 # m, big guess due to eccentricity\n",
    "mercury_speed = 48e3 # m/s\n",
    "\n",
    "\n",
    "G = -6.67430e-11 # m^3kg^-1s^-2\n",
    "\n",
    "s = System(bodies=[\n",
    "    Body(mass=sun_mass, R=10, v_x=0, c='y'),\n",
    "    Body(mass=earth_mass, x=0, y=-earth_distance, v_x=earth_speed, v_y=0, R=3, c='b'),\n",
    "    Body(mass=moon_mass, x=0, y=-moon_distance, v_x=moon_speed, v_y=0, R=1, c='gray'),\n",
    "    Body(mass=venus_mass, x=0, y=-venus_distance, v_x=venus_speed, v_y=0, R=2, c='orange'),\n",
    "    Body(mass=mars_mass, x=0, y=-mars_distance, v_x=mars_speed, v_y=0, R=1, c='r'),\n",
    "    Body(mass=mercury_mass, x=0, y=-mercury_distance, v_x=mercury_speed, v_y=0, R=1, c='r'),\n",
    "],\n",
    "           G=G)\n",
    "s.set_steps(60 * 60)\n",
    "print(s)\n",
    "\n",
    "fig, ax = plt.subplots(2, 2, figsize=(8, 6), constrained_layout=True)\n",
    "ax_sun = ax[0][0]\n",
    "ax_earth = ax[0][1]\n",
    "ax_sun_xy = ax[1][0]\n",
    "ax_earth_xy = ax[1][1]\n",
    "\n",
    "ax_sun_xy.set_title('Earth around the Sun.')\n",
    "ax_earth_xy.set_title('The Moon around the Earth.')\n",
    "sun_T = int(365/2)\n",
    "sun_x, sun_y = np.ones(sun_T), np.ones(sun_T)\n",
    "sun_time = np.linspace(0, sun_T, sun_T)\n",
    "earth_T = sun_T\n",
    "earth_xP, earth_yP = np.ones(earth_T), np.ones(earth_T)\n",
    "earth_time = np.linspace(0, earth_T, earth_T)\n",
    "\n",
    "line_sun_x, = ax_sun_xy.plot(sun_time, sun_x)\n",
    "line_sun_y, = ax_sun_xy.plot(sun_time, sun_y)\n",
    "\n",
    "line_earth_x, = ax_earth_xy.plot(earth_time, earth_xP)\n",
    "line_earth_y, = ax_earth_xy.plot(earth_time, earth_yP)\n",
    "\n",
    "\n",
    "x, y = s.xy()\n",
    "colors = [b.c for b in s.bodies]\n",
    "line_sun = ax_sun.scatter(x, y, linewidths=[b.R for b in s.bodies], c=colors)\n",
    "\n",
    "earth_x, earth_y = s.bodies[1].x, s.bodies[1].y\n",
    "x_new = [xi - earth_x for xi in x]\n",
    "y_new = [yi - earth_y for yi in y]\n",
    "print(x_new)\n",
    "print(y_new)\n",
    "\n",
    "line_earth = ax_earth.scatter(x_new, y_new, linewidths=[b.R for b in s.bodies], c=colors)\n",
    "\n",
    "vF_sun = 2\n",
    "ax_sun.set_xlim([-vF_sun * earth_distance, vF_sun * earth_distance])\n",
    "ax_sun.set_ylim([-vF_sun * earth_distance, vF_sun * earth_distance])\n",
    "\n",
    "vF_earth = 4\n",
    "ax_earth.set_xlim([-vF_earth * moon_distance_to_earth, vF_earth * moon_distance_to_earth])\n",
    "ax_earth.set_ylim([-vF_earth * moon_distance_to_earth, vF_earth * moon_distance_to_earth])\n",
    "\n",
    "ax_sun_xy.set_ylim([-vF_sun * earth_speed, vF_sun * earth_speed])\n",
    "ax_earth_xy.set_ylim([-vF_earth * moon_speed, vF_earth * moon_speed])\n",
    "\n",
    "\n",
    "ax_sun.axis('off')\n",
    "ax_earth.axis('off')\n",
    "ax_sun_xy.axis('off')\n",
    "ax_earth_xy.axis('off')\n",
    "\n",
    "\n",
    "fig.suptitle(f'Time: {int(s.t/60/60/24)} days')\n",
    "\n",
    "interval = 55#75 / (10 / 2)  # milliseconds\n",
    "T = 2000  # milliseconds\n",
    "frame_N = 365*1#int(T / interval)\n",
    "print(f'{frame_N} frames, {interval} interval')\n",
    "\n",
    "\n",
    "def animate(i):\n",
    "    for _ in range(24*2):\n",
    "        s.take_step()\n",
    "    x, y = s.xy()\n",
    "    line_sun.set_offsets(np.transpose([x, y]))\n",
    "    earth_x, earth_y = s.bodies[1].x, s.bodies[1].y\n",
    "    x_new = [xi - earth_x for xi in x]\n",
    "    y_new = [yi - earth_y for yi in y]\n",
    "    line_earth.set_offsets(np.transpose([x_new, y_new]))\n",
    "    \n",
    "    sun_x[1:] = sun_x[:-1]; sun_x[0] = s.bodies[1].v_x\n",
    "    line_sun_x.set_data(sun_time, sun_x)\n",
    "    sun_y[1:] = sun_y[:-1]; sun_y[0] = s.bodies[1].v_y\n",
    "    line_sun_y.set_data(sun_time, sun_y)\n",
    "    \n",
    "    earth_xP[1:] = earth_xP[:-1];earth_xP[0] = s.bodies[2].v_x\n",
    "    line_earth_x.set_data(earth_time, earth_xP)\n",
    "    earth_yP[1:] = earth_yP[:-1]; earth_yP[0] = s.bodies[2].v_y\n",
    "    line_earth_y.set_data(earth_time, earth_yP)\n",
    "    \n",
    "    \n",
    "    \n",
    "    fig.suptitle(f'Time: {int(s.t/60/60/24)} days')\n",
    "    return line_sun, line_earth, line_sun_x, line_sun_y, line_earth_x, line_earth_y,\n",
    "\n",
    "\n",
    "anim = FuncAnimation(\n",
    "    fig,\n",
    "    animate,  #init_func=init,\n",
    "    frames=frame_N,\n",
    "    interval=interval)\n",
    "anim.save('10_years_sun_venus_earth_moon_mars80dpi.gif', dpi=80, writer='imagemagick')\n",
    "#h = anim.to_html5_video()\n",
    "#HTML(h)"
   ]
  },
  {
   "cell_type": "markdown",
   "metadata": {},
   "source": [
    "![gif](10_years_sun_venus_earth_moon_mars80dpi.gif)"
   ]
  }
 ],
 "metadata": {
  "kernelspec": {
   "display_name": "Python 3",
   "language": "python",
   "name": "python3"
  },
  "language_info": {
   "codemirror_mode": {
    "name": "ipython",
    "version": 3
   },
   "file_extension": ".py",
   "mimetype": "text/x-python",
   "name": "python",
   "nbconvert_exporter": "python",
   "pygments_lexer": "ipython3",
   "version": "3.7.3"
  },
  "varInspector": {
   "cols": {
    "lenName": 16,
    "lenType": 16,
    "lenVar": 40
   },
   "kernels_config": {
    "python": {
     "delete_cmd_postfix": "",
     "delete_cmd_prefix": "del ",
     "library": "var_list.py",
     "varRefreshCmd": "print(var_dic_list())"
    },
    "r": {
     "delete_cmd_postfix": ") ",
     "delete_cmd_prefix": "rm(",
     "library": "var_list.r",
     "varRefreshCmd": "cat(var_dic_list()) "
    }
   },
   "types_to_exclude": [
    "module",
    "function",
    "builtin_function_or_method",
    "instance",
    "_Feature"
   ],
   "window_display": false
  }
 },
 "nbformat": 4,
 "nbformat_minor": 2
}
